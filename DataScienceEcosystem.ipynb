{
 "cells": [
  {
   "cell_type": "markdown",
   "id": "b6d7ab93-a15a-4236-a144-6eb709b74f39",
   "metadata": {},
   "source": [
    "# Data Science and Ecosystem"
   ]
  },
  {
   "cell_type": "markdown",
   "id": "2157949b-2d07-423e-9869-43da6a88d85f",
   "metadata": {},
   "source": [
    "## In this notebook, Data Science Tools and Ecosystem are summarized."
   ]
  },
  {
   "cell_type": "markdown",
   "id": "64ff48e9-bb78-4fe6-a082-74a11473c478",
   "metadata": {},
   "source": [
    "## Objectives"
   ]
  },
  {
   "cell_type": "markdown",
   "id": "d8914bfc-e235-49c4-b111-6cc36adfe580",
   "metadata": {},
   "source": [
    "* Popular languages used for Data Science\n",
    "* Popular tools used for Data Science\n",
    "* Libraries used for Data Science\n",
    "* Open source developmental platforms for Data Science"
   ]
  },
  {
   "cell_type": "markdown",
   "id": "4b7788bb-9f8e-4ad5-8946-8e41d7f7ad51",
   "metadata": {},
   "source": [
    "## Some of the popular languages that Data Scientists use are:\n"
   ]
  },
  {
   "cell_type": "markdown",
   "id": "4284d51a-a6ca-4f3d-b818-9c1d4ea95694",
   "metadata": {},
   "source": [
    "### 1.Python,\n",
    "### 2.R,\n",
    "### 3.SQL."
   ]
  },
  {
   "cell_type": "markdown",
   "id": "062f06a6-37c2-4195-b38c-64b7cbcc4d94",
   "metadata": {},
   "source": [
    "## Some of the commonly used libraries used by Data Scientists include:"
   ]
  },
  {
   "cell_type": "markdown",
   "id": "5f24b2a1-4a2e-49f6-a840-2a42f7df8db5",
   "metadata": {},
   "source": [
    "### 1.Numpy,\n",
    "### 2.Pandas,\n",
    "### 3.Matplotlib."
   ]
  },
  {
   "cell_type": "markdown",
   "id": "d23c86cd-63b4-473c-ad4c-1628c6bdded6",
   "metadata": {},
   "source": [
    "|Data Science Tools|\n",
    "|------------------|\n",
    "|Spyder|\n",
    "|Jupyter Notebook|\n",
    "|RStudio|\n"
   ]
  },
  {
   "cell_type": "markdown",
   "id": "c411c8c2-f0df-4264-9436-a4f228351cc7",
   "metadata": {},
   "source": [
    "### Below are a few examples of evaluating arithmetic expressions in Python."
   ]
  },
  {
   "cell_type": "code",
   "execution_count": 5,
   "id": "01346a11-763b-47e4-b2a8-0f0273a482f0",
   "metadata": {},
   "outputs": [
    {
     "data": {
      "text/plain": [
       "17"
      ]
     },
     "execution_count": 5,
     "metadata": {},
     "output_type": "execute_result"
    }
   ],
   "source": [
    "# This a simple arithmetic expression to multiply then add integers.\n",
    "(3*4)+5"
   ]
  },
  {
   "cell_type": "code",
   "execution_count": 6,
   "id": "5a1a2243-a300-4a8f-bc8b-523eb95d226d",
   "metadata": {},
   "outputs": [
    {
     "data": {
      "text/plain": [
       "3.3333333333333335"
      ]
     },
     "execution_count": 6,
     "metadata": {},
     "output_type": "execute_result"
    }
   ],
   "source": [
    "# This will convert 200 minutes to hours by dividing by 60.\n",
    "200/60"
   ]
  },
  {
   "cell_type": "markdown",
   "id": "9b666127-ac4c-46c6-8664-446b0f8acd55",
   "metadata": {},
   "source": [
    "## Author\n",
    "## Hari E"
   ]
  },
  {
   "cell_type": "code",
   "execution_count": null,
   "id": "79d8728b-e231-4c13-8f43-73002530d30d",
   "metadata": {},
   "outputs": [],
   "source": []
  }
 ],
 "metadata": {
  "kernelspec": {
   "display_name": "Python 3 (ipykernel)",
   "language": "python",
   "name": "python3"
  },
  "language_info": {
   "codemirror_mode": {
    "name": "ipython",
    "version": 3
   },
   "file_extension": ".py",
   "mimetype": "text/x-python",
   "name": "python",
   "nbconvert_exporter": "python",
   "pygments_lexer": "ipython3",
   "version": "3.13.5"
  },
  "widgets": {
   "application/vnd.jupyter.widget-state+json": {
    "state": {},
    "version_major": 2,
    "version_minor": 0
   }
  }
 },
 "nbformat": 4,
 "nbformat_minor": 5
}
